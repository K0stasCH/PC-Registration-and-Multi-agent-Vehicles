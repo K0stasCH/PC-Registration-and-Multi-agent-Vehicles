{
 "cells": [
  {
   "cell_type": "code",
   "execution_count": null,
   "metadata": {},
   "outputs": [],
   "source": [
    "# import torch\n",
    "\n",
    "# if torch.cuda.is_available():\n",
    "#     DEVICE = 'cuda:0'\n",
    "#     print('Running on the GPU')"
   ]
  },
  {
   "cell_type": "code",
   "execution_count": 47,
   "metadata": {},
   "outputs": [],
   "source": [
    "%load_ext autoreload\n",
    "%autoreload 2"
   ]
  },
  {
   "cell_type": "code",
   "execution_count": 1,
   "metadata": {},
   "outputs": [
    {
     "name": "stdout",
     "output_type": "stream",
     "text": [
      "Jupyter environment detected. Enabling Open3D WebVisualizer.\n",
      "[Open3D INFO] WebRTC GUI backend enabled.\n",
      "[Open3D INFO] WebRTCWindowSystem: HTTP handshake server disabled.\n"
     ]
    }
   ],
   "source": [
    "from Scene.Scnene import Scene\n",
    "from Vehicle.Vehicle import Vehicle\n",
    "from nuscenes.nuscenes import NuScenes as V2XSimDataset\n",
    "import mmseg\n",
    "from mmseg.apis import inference_model, init_model, show_result_pyplot\n",
    "import numpy as np"
   ]
  },
  {
   "cell_type": "code",
   "execution_count": 2,
   "metadata": {},
   "outputs": [
    {
     "name": "stdout",
     "output_type": "stream",
     "text": [
      "======\n",
      "Loading NuScenes tables for version v2.0-mini...\n",
      "Loading nuScenes-lidarseg...\n",
      "32 category,\n",
      "5 attribute,\n",
      "4 visibility,\n",
      "157 instance,\n",
      "130 sensor,\n",
      "130 calibrated_sensor,\n",
      "13000 ego_pose,\n",
      "12 log,\n",
      "1 scene,\n",
      "100 sample,\n",
      "13000 sample_data,\n",
      "15292 sample_annotation,\n",
      "3 map,\n",
      "600 lidarseg,\n",
      "Done loading in 0.557 seconds.\n",
      "======\n",
      "Reverse indexing ...\n",
      "Done reverse indexing in 0.1 seconds.\n",
      "======\n"
     ]
    }
   ],
   "source": [
    "datapath = \"D:\\\\Dataset-Thesis\\\\temp\\\\V2X Sim Mini\\\\V2X-Sim-2.0-mini\"\n",
    "v2x_sim = V2XSimDataset(version='v2.0-mini', dataroot=datapath, verbose=True)"
   ]
  },
  {
   "cell_type": "code",
   "execution_count": 3,
   "metadata": {},
   "outputs": [],
   "source": [
    "v1 = Vehicle(v2x_sim,1)\n",
    "v4 = Vehicle(v2x_sim,4) "
   ]
  },
  {
   "cell_type": "code",
   "execution_count": 4,
   "metadata": {},
   "outputs": [
    {
     "name": "stderr",
     "output_type": "stream",
     "text": [
      "c:\\Users\\konst\\anaconda3\\envs\\thesis\\lib\\site-packages\\mmseg\\models\\builder.py:36: UserWarning: ``build_loss`` would be deprecated soon, please use ``mmseg.registry.MODELS.build()`` \n",
      "  warnings.warn('``build_loss`` would be deprecated soon, please use '\n",
      "c:\\Users\\konst\\anaconda3\\envs\\thesis\\lib\\site-packages\\mmseg\\models\\losses\\cross_entropy_loss.py:235: UserWarning: Default ``avg_non_ignore`` is False, if you would like to ignore the certain label and average loss over non-ignore labels, which is the same with PyTorch official cross_entropy, set ``avg_non_ignore=True``.\n",
      "  warnings.warn(\n"
     ]
    },
    {
     "name": "stdout",
     "output_type": "stream",
     "text": [
      "Loads checkpoint by local backend from path: .\\checkpoints\\pspNET\\iter_1000.pth\n"
     ]
    }
   ],
   "source": [
    "# config_file = f'{mmseg.__path__[0]}\\\\.mim\\\\configs\\\\segformer\\\\segformer_mit-b0_8xb1-160k_cityscapes-1024x1024.py'\n",
    "# checkpoint_file = '.\\\\checkpoints\\\\seg\\\\segformer_mit-b0_8x1_1024x1024_160k_cityscapes_20211208_101857-e7f88502.pth'\n",
    "\n",
    "# config_file = f'{mmseg.__path__[0]}\\\\.mim\\\\configs\\\\resnest\\\\resnest_s101-d8_fcn_4xb2-80k_cityscapes-512x1024.py'\n",
    "# checkpoint_file = '.\\\\checkpoints\\\\seg\\\\fcn_s101-d8_512x1024_80k_cityscapes_20200807_140631-f8d155b3.pth'\n",
    "\n",
    "# config_file = f'{mmseg.__path__[0]}\\\\.mim\\\\configs\\\\pspnet\\\\pspnet_r50-d8_4xb2-40k_cityscapes-512x1024.py'\n",
    "# checkpoint_file = '.\\\\checkpoints\\\\seg\\\\pspnet_r50-d8_512x1024_40k_cityscapes_20200605_003338-2966598c.pth'\n",
    "\n",
    "# config_file = \"C:\\\\Users\\\\konst\\Downloads\\\\myModel\\\\pspnet_r50-d8_4xb2-40k_cityscapes-512x1024.py\"\n",
    "# checkpoint_file = \"C:\\\\Users\\\\konst\\Downloads\\\\myModel\\\\iter_200.pth\"\n",
    "\n",
    "config_file = '.\\\\checkpoints\\\\pspNET\\\\pspnet_r50-d8_4xb2-40k_cityscapes-512x1024.py'\n",
    "checkpoint_file = '.\\\\checkpoints\\\\pspNET\\\\iter_1000.pth'\n",
    "\n",
    "model = init_model(config_file, checkpoint_file, device='cuda:0')"
   ]
  },
  {
   "cell_type": "code",
   "execution_count": 5,
   "metadata": {},
   "outputs": [],
   "source": [
    "time = 1\n",
    "# v1.showSegImages(model, time)\n",
    "tempScene1 = v1.generateScene(model, time)\n",
    "tempScene4 = v4.generateScene(model, time)"
   ]
  },
  {
   "cell_type": "code",
   "execution_count": 7,
   "metadata": {},
   "outputs": [],
   "source": [
    "# tempScene1.visualizePCD()\n",
    "# tempScene4.visualizePCD()"
   ]
  },
  {
   "cell_type": "code",
   "execution_count": 64,
   "metadata": {},
   "outputs": [
    {
     "data": {
      "image/png": "[encoded data removed]",
      "text/plain": [
       "<Figure size 640x480 with 1 Axes>"
      ]
     },
     "metadata": {},
     "output_type": "display_data"
    },
    {
     "data": {
      "image/png": "[encoded data removed]",
      "text/plain": [
       "<Figure size 640x480 with 1 Axes>"
      ]
     },
     "metadata": {},
     "output_type": "display_data"
    }
   ],
   "source": [
    "eps =0.5\n",
    "min_points = 20\n",
    "\n",
    "g1 = tempScene1.generateGraph(_min_points=min_points, _eps=eps, classNames=['person', 'vehicle', 'pole'])\n",
    "g1.plotGraph()\n",
    "\n",
    "g4 = tempScene4.generateGraph(_min_points=min_points, _eps=eps, classNames=['person', 'vehicle', 'pole'])\n",
    "g4.plotGraph()\n",
    "\n",
    "graphs = [g1, g4]"
   ]
  },
  {
   "cell_type": "code",
   "execution_count": null,
   "metadata": {},
   "outputs": [],
   "source": [
    "# import pickle\n",
    "# with open(\"graphs.pickle\", \"wb\") as file:\n",
    "#     pickle.dump(graphs, file)"
   ]
  },
  {
   "cell_type": "code",
   "execution_count": 60,
   "metadata": {},
   "outputs": [
    {
     "name": "stdout",
     "output_type": "stream",
     "text": [
      "[{1: 1, 2: 2, 3: 4}]\n"
     ]
    }
   ],
   "source": [
    "# import networkx as nx\n",
    "\n",
    "# # Create two NetworkX graphs\n",
    "# g1 = nx.Graph()\n",
    "# g2 = nx.Graph()\n",
    "\n",
    "# # Add the nodes and edges of each input graph to the corresponding NetworkX graph\n",
    "# g1.add_nodes_from([1, 2, 3])\n",
    "# g1.add_edges_from([(1, 2), (2, 3)])\n",
    "\n",
    "# g2.add_nodes_from([1, 2, 4])\n",
    "# g2.add_edges_from([(1, 2), (2, 4)])\n",
    "\n",
    "# # Find the MCS of the two NetworkX graphs\n",
    "# ismags2 = nx.isomorphism.ISMAGS(g1, g2)\n",
    "# largest_common_subgraph = list(ismags2.largest_common_subgraph())\n",
    "# # mcs = nx.algorithms.isomorphism.ISMAGS.largest_common_subgraph(g1, g2)\n",
    "\n",
    "# print(largest_common_subgraph)\n",
    "\n",
    "# # Print the MCS\n",
    "# # print(mcs.nodes())\n",
    "# # print(mcs.edges())"
   ]
  }
 ],
 "metadata": {
  "kernelspec": {
   "display_name": "thesis",
   "language": "python",
   "name": "python3"
  },
  "language_info": {
   "codemirror_mode": {
    "name": "ipython",
    "version": 3
   },
   "file_extension": ".py",
   "mimetype": "text/x-python",
   "name": "python",
   "nbconvert_exporter": "python",
   "pygments_lexer": "ipython3",
   "version": "3.9.16"
  }
 },
 "nbformat": 4,
 "nbformat_minor": 2
}
